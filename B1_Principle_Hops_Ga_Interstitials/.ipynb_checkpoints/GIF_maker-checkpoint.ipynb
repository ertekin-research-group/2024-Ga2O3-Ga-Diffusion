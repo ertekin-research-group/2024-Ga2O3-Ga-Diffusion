{
 "cells": [
  {
   "cell_type": "code",
   "execution_count": 1,
   "id": "9fcfc18c",
   "metadata": {},
   "outputs": [],
   "source": [
    "from PIL import Image\n",
    "import os"
   ]
  },
  {
   "cell_type": "code",
   "execution_count": 5,
   "id": "d5c357e7",
   "metadata": {},
   "outputs": [],
   "source": [
    "index = '29'\n",
    "dir_name = '{}_PH{}'.format(index,index)\n",
    "#dir_name = 'FH_a-axis'\n",
    "file_names = []\n",
    "for n in range(6):\n",
    "    if n < 10:\n",
    "        file_names += ['{}/images/CONTCAR0{}.png'.format(dir_name,n)]\n",
    "    else:\n",
    "        file_names += ['{}/images/CONTCAR{}.png'.format(dir_name,n)]\n",
    "        \n",
    "frames = []\n",
    "\n",
    "for i in range(len(file_names)):\n",
    "    img = Image.open(file_names[i])\n",
    "    frames.append(img.copy())\n",
    "\n",
    "duration = 0.05\n",
    "\n",
    "total_duration = duration * len(frames)\n",
    "\n",
    "# Save the frames as a GIF file\n",
    "gif_name = '{}/images/animation.gif'.format(dir_name)\n",
    "frames[0].save(gif_name, format='GIF', append_images=frames[0:], save_all=True, duration=total_duration, loop=0)\n"
   ]
  },
  {
   "cell_type": "code",
   "execution_count": null,
   "id": "2eae897b",
   "metadata": {},
   "outputs": [],
   "source": [
    "index = '21'\n",
    "dir_name = '{}_PH{}'.format(index,index)\n",
    "#dir_name = 'FH_a-axis'\n",
    "file_names = []\n",
    "for n in range(6):\n",
    "    if n < 10:\n",
    "        file_names += ['{}/images/CONTCAR0{}.png'.format(dir_name,n)]\n",
    "    else:\n",
    "        file_names += ['{}/images/CONTCAR{}.png'.format(dir_name,n)]\n",
    "        \n",
    "frames = []\n",
    "\n",
    "for i in range(len(file_names)):\n",
    "    img = Image.open(file_names[i])\n",
    "    # Get the aspect ratio of the image\n",
    "    aspect_ratio = img.size[0] / img.size[1]\n",
    "    frames.append(img.copy())\n",
    "\n",
    "if len(frames) < 6:\n",
    "    raise ValueError(\"There must be at least 6 frames in the frames list.\")\n",
    "\n",
    "# Resize images to have the same size and aspect ratio\n",
    "for i in range(len(frames)):\n",
    "    # Get the aspect ratio of the image\n",
    "    aspect_ratio = frames[i].size[0] / frames[i].size[1]\n",
    "    # Resize the image to have the same width as the first image,\n",
    "    # and preserve the aspect ratio\n",
    "    new_width = frames[0].size[0]\n",
    "    new_height = int(new_width / aspect_ratio)\n",
    "    frames[i] = frames[i].resize((new_width, new_height), resample=Image.LANCZOS)\n",
    "\n",
    "# Get the DPI of the first image\n",
    "first_dpi = frames[0].info.get('dpi', (72, 72))\n",
    "\n",
    "# Resize images with different DPI to match the DPI of the first image\n",
    "for i in range(1, len(frames)):\n",
    "    dpi = frames[i].info.get('dpi', (72, 72))\n",
    "    if dpi != first_dpi:\n",
    "        # Resize image to match the DPI of the first image\n",
    "        w, h = frames[i].size\n",
    "        w2, h2 = int(w * first_dpi[0] / dpi[0]), int(h * first_dpi[1] / dpi[1])\n",
    "        frames[i] = frames[i].resize((w2, h2))\n",
    "\n",
    "duration = 0.05\n",
    "\n",
    "total_duration = duration * len(frames)\n",
    "\n",
    "# Save the frames as a GIF file\n",
    "gif_name = '{}/images/animation.gif'.format(dir_name)\n",
    "frames[0].save(gif_name, format='GIF', append_images=frames[1:], save_all=True, duration=total_duration, loop=0)"
   ]
  },
  {
   "cell_type": "code",
   "execution_count": null,
   "id": "0313c228",
   "metadata": {},
   "outputs": [],
   "source": []
  }
 ],
 "metadata": {
  "kernelspec": {
   "display_name": "cnlee3",
   "language": "python",
   "name": "cnlee3"
  },
  "language_info": {
   "codemirror_mode": {
    "name": "ipython",
    "version": 3
   },
   "file_extension": ".py",
   "mimetype": "text/x-python",
   "name": "python",
   "nbconvert_exporter": "python",
   "pygments_lexer": "ipython3",
   "version": "3.8.12"
  }
 },
 "nbformat": 4,
 "nbformat_minor": 5
}
